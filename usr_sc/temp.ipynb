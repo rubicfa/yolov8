{
 "cells": [
  {
   "cell_type": "code",
   "execution_count": 10,
   "metadata": {},
   "outputs": [],
   "source": [
    "import os\n",
    "import cv2\n",
    "\n",
    "img_home='/mnt/e/download/CCPD2020/ccpd_green'\n",
    "dir_l=os.listdir(img_home)"
   ]
  },
  {
   "cell_type": "code",
   "execution_count": 11,
   "metadata": {},
   "outputs": [],
   "source": [
    "import albumentations as A"
   ]
  },
  {
   "cell_type": "code",
   "execution_count": 15,
   "metadata": {},
   "outputs": [],
   "source": [
    "# print(dir_l)\n",
    "for dir in dir_l:\n",
    "    dir_path=os.path.join(img_home,dir)\n",
    "    f_l=os.listdir(dir_path)\n",
    "    for f in f_l:\n",
    "        if f.endswith('jpg'):\n",
    "            img_path=os.path.join(dir_path,f)\n",
    "            txt_path=img_path.strip('jpg')+'txt'\n",
    "            img=cv2.imread(img_path)\n",
    "            h,w,c=img.shape\n",
    "            l=f.split('-')\n",
    "            x1,y1=[float(i) for i in l[2].split('_')[0].split('&')]\n",
    "            x2,y2=[float(i) for i in l[2].split('_')[1].split('&')]\n",
    "            point=[[] for i in range(4)]\n",
    "            temp=l[3].split('_')\n",
    "            for i in range(4):\n",
    "                point[i]=[float(i) for i in temp[i].split('&')]\n",
    "            cx=(x1+x2)/2.0/w\n",
    "            cy=(y1+y2)/2.0/h\n",
    "            pw=(x2-x1)/w\n",
    "            ph=(y2-y1)/h\n",
    "            out_s='0 '+str(cx)+' '+str(cy)+' '+str(pw)+' '+str(ph)\n",
    "            for i in range(4):\n",
    "                out_s+=' '+str(point[i][0]/w)+' '+str(point[i][1]/h)+' 1'\n",
    "                # print(point[i])\n",
    "            file=open(txt_path,'w')\n",
    "            file.write(out_s)\n",
    "            file.close()\n",
    "            "
   ]
  },
  {
   "cell_type": "code",
   "execution_count": 1,
   "metadata": {},
   "outputs": [
    {
     "data": {
      "text/plain": [
       "<enumerate at 0x7fce59776a00>"
      ]
     },
     "execution_count": 1,
     "metadata": {},
     "output_type": "execute_result"
    }
   ],
   "source": [
    "t=range(4)\n",
    "enumerate(t)"
   ]
  },
  {
   "cell_type": "code",
   "execution_count": 7,
   "metadata": {},
   "outputs": [
    {
     "name": "stdout",
     "output_type": "stream",
     "text": [
      "<enumerate object at 0x7fce59720cc0>\n"
     ]
    }
   ],
   "source": [
    "temp=enumerate(t)\n",
    "print(temp)"
   ]
  },
  {
   "cell_type": "code",
   "execution_count": 5,
   "metadata": {},
   "outputs": [
    {
     "data": {
      "text/plain": [
       "(2, 2)"
      ]
     },
     "execution_count": 5,
     "metadata": {},
     "output_type": "execute_result"
    }
   ],
   "source": [
    "next(temp)"
   ]
  },
  {
   "cell_type": "code",
   "execution_count": 8,
   "metadata": {},
   "outputs": [
    {
     "name": "stdout",
     "output_type": "stream",
     "text": [
      "0 0\n",
      "1 1\n",
      "2 2\n",
      "3 3\n"
     ]
    }
   ],
   "source": [
    "for i,j in temp:\n",
    "    print(i,j)"
   ]
  },
  {
   "cell_type": "code",
   "execution_count": null,
   "metadata": {},
   "outputs": [],
   "source": [
    "import os\n",
    "import numpy as np\n",
    "import torch\n",
    "from PIL import Image\n",
    "\n",
    "class PennFudanDataset(object):\n",
    "    def __init__(self,root,transforms):\n",
    "        self.root=root\n",
    "        self.transforms=transforms\n",
    "        self.imgs=list(sorted(os.listdir(os.path.join(root,\"PNGImages\"))))\n",
    "        self.masks=list(sorted(os.listdir(os.path.join(root,\"PedMasks\"))))\n",
    "    \n",
    "    def __getitem__(self,idx):\n",
    "        img_path=os.path.join(self.root,\"PNGImages\",self.imgs[idx])\n",
    "        mask_path=os.path.join(self.root,\"PedMasks\",self.masks[idx])\n",
    "        img=Image.open(img_path).convert('RGB')\n",
    "        mask=Image.open(mask_path)\n",
    "        mask=np.array(mask)\n",
    "        obj_ids=np.unique(mask)\n",
    "        obj_ids="
   ]
  }
 ],
 "metadata": {
  "kernelspec": {
   "display_name": "yolov8",
   "language": "python",
   "name": "python3"
  },
  "language_info": {
   "codemirror_mode": {
    "name": "ipython",
    "version": 3
   },
   "file_extension": ".py",
   "mimetype": "text/x-python",
   "name": "python",
   "nbconvert_exporter": "python",
   "pygments_lexer": "ipython3",
   "version": "3.10.9"
  },
  "orig_nbformat": 4
 },
 "nbformat": 4,
 "nbformat_minor": 2
}
